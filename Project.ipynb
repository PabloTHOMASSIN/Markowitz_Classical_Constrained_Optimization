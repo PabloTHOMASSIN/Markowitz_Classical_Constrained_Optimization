{
  "nbformat": 4,
  "nbformat_minor": 0,
  "metadata": {
    "colab": {
      "provenance": []
    },
    "kernelspec": {
      "name": "python3",
      "display_name": "Python 3"
    },
    "language_info": {
      "name": "python"
    }
  },
  "cells": [
    {
      "cell_type": "code",
      "source": [
        "class Vector:\n",
        "    def __init__(self, x, y):\n",
        "        self.x = x\n",
        "        self.y = y\n",
        "\n",
        "    def __add__(self, other):\n",
        "\n",
        "        return Vector(self.x + other.x, self.y + other.y)\n",
        "\n",
        "    def __sub__(self, other):\n",
        "        return Vector(self.x - other.x, self.y - other.y)\n",
        "\n",
        "    def __str__(self):\n",
        "        return \"(\" + str(self.x) + \",\" + str(self.y) + \")\"\n",
        "\n",
        "    def norm(self):\n",
        "        return (self.x**2 + self.y**2)**0.5\n",
        "\n",
        "    def __mul__(self, other):\n",
        "        if isinstance(other, Vector):\n",
        "            return self.x * other.x + self.y * other.y\n",
        "        else:\n",
        "            return Vector(self.x * other, self.y * other)\n",
        "\n",
        "    def __rmul__(self, other):\n",
        "        if isinstance(other, Vector):\n",
        "            return self.x * other.x + self.y * other.y\n",
        "        else:\n",
        "            return Vector(self.x * other, self.y * other)\n",
        "\n"
      ],
      "metadata": {
        "id": "evuGUQTrbNEy"
      },
      "execution_count": null,
      "outputs": []
    },
    {
      "cell_type": "code",
      "execution_count": null,
      "metadata": {
        "id": "4w5UED1tMh7-"
      },
      "outputs": [],
      "source": [
        "def f(x):\n",
        "  return (x-1)*(1+x**2)"
      ]
    },
    {
      "cell_type": "code",
      "source": [
        "def df(x):\n",
        "  return (1+x**2)+2*x*(x-1)"
      ],
      "metadata": {
        "id": "UsV4ouUxM015"
      },
      "execution_count": null,
      "outputs": []
    },
    {
      "cell_type": "code",
      "source": [
        "def newton(x0,e):\n",
        "  x1 = x0-f(x0)/df(x0)\n",
        "  n=0\n",
        "  l = []\n",
        "  while abs(x1-x0)>e:\n",
        "    l.append(x0)\n",
        "    x0 = x1\n",
        "    x1 = x0 - f(x0)/df(x0)\n",
        "    n+=1\n",
        "  return x0,n,l"
      ],
      "metadata": {
        "id": "Yva0AtfLOCH4"
      },
      "execution_count": null,
      "outputs": []
    },
    {
      "cell_type": "code",
      "source": [
        "def testnewton1D():\n",
        "  for xn in range(-100,110):\n",
        "    for en in range(10):\n",
        "      e = en/100\n",
        "      x0=xn/10\n",
        "      print(newton(x0,e)[0])\n",
        "      print(newton(x0*1j,e)[0])"
      ],
      "metadata": {
        "id": "vJ69Pf-aOrnU"
      },
      "execution_count": null,
      "outputs": []
    },
    {
      "cell_type": "code",
      "source": [
        "testnewton1D()"
      ],
      "metadata": {
        "id": "ah39lyG-PvqX"
      },
      "execution_count": null,
      "outputs": []
    },
    {
      "cell_type": "markdown",
      "source": [
        "# Nouvelle section"
      ],
      "metadata": {
        "id": "kTVZFVk8RTWJ"
      }
    },
    {
      "cell_type": "code",
      "source": [
        "def f(g):\n",
        "  return (1-g.x)**2+100*(g.y-g.x**2)**2"
      ],
      "metadata": {
        "id": "666DQsuVB3AS"
      },
      "execution_count": null,
      "outputs": []
    },
    {
      "cell_type": "code",
      "source": [
        "def grad_f(g):\n",
        "  return Vector(-2*(1-g.x)- 400*g.x*(g.y-(g.x**2)),200*(g.y-(g.x**2)))"
      ],
      "metadata": {
        "id": "9UDIpruZCIr2"
      },
      "execution_count": null,
      "outputs": []
    },
    {
      "cell_type": "code",
      "source": [
        "def pk(x, wk, method='golden_section'):\n",
        "\n",
        "    if method == 'golden_section':\n",
        "\n",
        "        alpha = golden_section_line_search(x, wk)\n",
        "\n",
        "    else:\n",
        "\n",
        "        alpha = wolfe_conditions_line_search(x, wk)\n",
        "\n",
        "    return alpha\n",
        "\n",
        "def golden_section_line_search(x, wk, c1=1e-4, max_iter=100):\n",
        "    a = 0.0\n",
        "    b = 1.0\n",
        "    tau = 0.618\n",
        "\n",
        "    for _ in range(max_iter):\n",
        "        alpha1 = a + (1 - tau) * (b - a)\n",
        "        alpha2 = a + tau * (b - a)\n",
        "\n",
        "        f1 = f(x+ alpha1* wk)\n",
        "        f2 = f(x +alpha2* wk)\n",
        "\n",
        "        if f2 > f1:\n",
        "            b = alpha2\n",
        "        else:\n",
        "            a = alpha1\n",
        "\n",
        "        if abs(alpha2 - alpha1) < c1:\n",
        "            break\n",
        "\n",
        "    return (alpha1 + alpha2) / 2.0\n",
        "\n",
        "def wolfe_conditions_line_search( x, wk, c1=1e-4, c2=0.9, max_iter=100):\n",
        "    alpha = 1.0\n",
        "    rho = 0.5\n",
        "    phi_0 = f(x)\n",
        "    phi_prime_0 = grad_f(x)*wk\n",
        "\n",
        "    for _ in range(max_iter):\n",
        "        x_next = x + alpha * wk\n",
        "        phi_alpha = f(x_next)\n",
        "\n",
        "        if phi_alpha > phi_0 + c1 * alpha * phi_prime_0:\n",
        "            alpha *= rho\n",
        "        else:\n",
        "            phi_prime_alpha = grad_f(x_next) * wk\n",
        "\n",
        "            if phi_prime_alpha < c2 * phi_prime_0:\n",
        "                alpha *= 1.5\n",
        "            else:\n",
        "                return alpha\n",
        "\n",
        "    raise ValueError(\"Wolfe conditions line search did not converge.\")\n"
      ],
      "metadata": {
        "id": "IwTSHqhaNMua"
      },
      "execution_count": null,
      "outputs": []
    },
    {
      "cell_type": "code",
      "source": [
        "def descente1(x0,e,p):\n",
        "  k = 0\n",
        "  ek = 2*e\n",
        "  while ek>=e:\n",
        "    wk = -1*grad_f(x0)\n",
        "    ek = (x0+p*wk-x0).norm()\n",
        "    x0 = x0+p*wk\n",
        "    k+=1\n",
        "  return x0,k\n"
      ],
      "metadata": {
        "id": "VZw5iGgg_vFj"
      },
      "execution_count": null,
      "outputs": []
    },
    {
      "cell_type": "code",
      "source": [
        "def descente2(x0,e,method='golden_section'):\n",
        "  k = 0\n",
        "  ek = 2*e\n",
        "  while ek>=e:\n",
        "    print(ek)\n",
        "    wk = -1*grad_f(x0)\n",
        "    p = pk(x0,wk,method)\n",
        "    ek = (x0-x0+p*wk).norm()\n",
        "    x0 = (x0+p*wk)\n",
        "    k+=1\n",
        "  return x0,k,p"
      ],
      "metadata": {
        "id": "ckI1fZ_yNAyt"
      },
      "execution_count": null,
      "outputs": []
    },
    {
      "cell_type": "code",
      "source": [
        "x = Vector(-1.9,2)\n",
        "print(descente1(x,0.0000001,0.001)[0])"
      ],
      "metadata": {
        "colab": {
          "base_uri": "https://localhost:8080/"
        },
        "id": "gPxQFO7hGrfW",
        "outputId": "1285250f-5517-4f29-9d58-e712f2366885"
      },
      "execution_count": null,
      "outputs": [
        {
          "output_type": "stream",
          "name": "stdout",
          "text": [
            "(0.9998882617354454,0.9997760887946499)\n"
          ]
        }
      ]
    },
    {
      "cell_type": "code",
      "source": [
        "print(descente2(x,0.0000001,'wolfe')[0])"
      ],
      "metadata": {
        "colab": {
          "base_uri": "https://localhost:8080/"
        },
        "id": "ktgzCpyKP20Z",
        "outputId": "5fa67dc9-f8ff-43ae-d84a-06df700b9077"
      },
      "execution_count": null,
      "outputs": [
        {
          "output_type": "stream",
          "name": "stdout",
          "text": [
            "(1.000039003191822,1.0000780847060415)\n"
          ]
        }
      ]
    },
    {
      "cell_type": "code",
      "source": [
        "print(descente2(x,0.0000001)[0])"
      ],
      "metadata": {
        "id": "0x_1jaMpaoms"
      },
      "execution_count": null,
      "outputs": []
    }
  ]
}